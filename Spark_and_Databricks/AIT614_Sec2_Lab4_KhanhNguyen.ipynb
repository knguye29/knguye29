{"cells":[{"cell_type":"markdown","source":["### Lab 4: Spark with Python in Databricks\n<hr>\n<b>cks</b> Khanh Nguyen<br>\n\n<hr>\n
