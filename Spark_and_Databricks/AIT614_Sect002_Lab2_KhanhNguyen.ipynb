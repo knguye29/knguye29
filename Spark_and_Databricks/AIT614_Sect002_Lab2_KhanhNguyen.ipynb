{
 "cells": [
  {
   "cell_type": "markdown",
   "id": "43aaf624-b697-4ba2-a315-42217100de13",
   "metadata": {},
   "source": [
    "AIT614 Lab2 by Khanh Nguyen"
   ]
  },
  {
   "cell_type": "code",
   "execution_count": 2,
   "id": "590d06a1-d414-4bf6-9c03-0a8b27096886",
   "metadata": {},
   "outputs": [
    {
     "name": "stdout",
     "output_type": "stream",
     "text": [
      "Requirement already satisfied: pymongo in c:\\programdata\\anaconda3\\lib\\site-packages (4.0.1)\n"
     ]
    }
   ],
   "source": [
    "!pip install pymongo"
   ]
  },
  {
   "cell_type": "markdown",
   "id": "4f75af48-ecd5-498f-a238-2efc6c991275",
   "metadata": {},
   "source": [
    "#Connect Mongodb"
   ]
  },
  {
   "cell_type": "code",
   "execution_count": 9,
   "id": "20ca4102-ad65-4975-b916-ef7840a9489e",
   "metadata": {},
   "outputs": [],
   "source": [
    "import pymongo\n",
    "\n",
    "myclient = pymongo.MongoClient(\"mongodb://localhost:27017/\")\n",
    "\n",
    "#mydb = myclient[\"Lab2_KhanhNguyen\"]"
   ]
  },
  {
   "cell_type": "code",
   "execution_count": 4,
   "id": "55f22e63-6cca-49a1-83bc-dc3ef3ee1398",
   "metadata": {},
   "outputs": [
    {
     "name": "stdout",
     "output_type": "stream",
     "text": [
      "['AIT614', 'admin', 'config', 'local']\n"
     ]
    }
   ],
   "source": [
    "print(myclient.list_database_names())"
   ]
  },
  {
   "cell_type": "markdown",
   "id": "3dd7f7ac-33b7-46ba-b84c-4015b68ceda4",
   "metadata": {
    "tags": []
   },
   "source": [
    "#Import libraries"
   ]
  },
  {
   "cell_type": "code",
   "execution_count": 5,
   "id": "90f2b5ea-cdc7-408f-9af5-f2753b5e9285",
   "metadata": {},
   "outputs": [],
   "source": [
    "import pymongo\n",
    "import pandas as pd\n",
    "import json"
   ]
  },
  {
   "cell_type": "markdown",
   "id": "19d1e8f6-4fb1-4b10-99ed-13e4e3258fb1",
   "metadata": {},
   "source": [
    "#Load the CSV file"
   ]
  },
  {
   "cell_type": "code",
   "execution_count": 6,
   "id": "8038f236-d9e0-40ec-9961-2ce4cf97a2d7",
   "metadata": {},
   "outputs": [
    {
     "data": {
      "text/html": [
       "<div>\n",
       "<style scoped>\n",
       "    .dataframe tbody tr th:only-of-type {\n",
       "        vertical-align: middle;\n",
       "    }\n",
       "\n",
       "    .dataframe tbody tr th {\n",
       "        vertical-align: top;\n",
       "    }\n",
       "\n",
       "    .dataframe thead th {\n",
       "        text-align: right;\n",
       "    }\n",
       "</style>\n",
       "<table border=\"1\" class=\"dataframe\">\n",
       "  <thead>\n",
       "    <tr style=\"text-align: right;\">\n",
       "      <th></th>\n",
       "      <th>Age</th>\n",
       "      <th>Attrition</th>\n",
       "      <th>BusinessTravel</th>\n",
       "      <th>DailyRate</th>\n",
       "      <th>Department</th>\n",
       "      <th>DistanceFromHome</th>\n",
       "      <th>Education</th>\n",
       "      <th>EducationField</th>\n",
       "      <th>EmployeeCount</th>\n",
       "      <th>EmployeeNumber</th>\n",
       "      <th>...</th>\n",
       "      <th>RelationshipSatisfaction</th>\n",
       "      <th>StandardHours</th>\n",
       "      <th>StockOptionLevel</th>\n",
       "      <th>TotalWorkingYears</th>\n",
       "      <th>TrainingTimesLastYear</th>\n",
       "      <th>WorkLifeBalance</th>\n",
       "      <th>YearsAtCompany</th>\n",
       "      <th>YearsInCurrentRole</th>\n",
       "      <th>YearsSinceLastPromotion</th>\n",
       "      <th>YearsWithCurrManager</th>\n",
       "    </tr>\n",
       "  </thead>\n",
       "  <tbody>\n",
       "    <tr>\n",
       "      <th>0</th>\n",
       "      <td>41</td>\n",
       "      <td>Yes</td>\n",
       "      <td>Travel_Rarely</td>\n",
       "      <td>1102</td>\n",
       "      <td>Sales</td>\n",
       "      <td>1</td>\n",
       "      <td>2</td>\n",
       "      <td>Life Sciences</td>\n",
       "      <td>1</td>\n",
       "      <td>1</td>\n",
       "      <td>...</td>\n",
       "      <td>1</td>\n",
       "      <td>80</td>\n",
       "      <td>0</td>\n",
       "      <td>8</td>\n",
       "      <td>0</td>\n",
       "      <td>1</td>\n",
       "      <td>6</td>\n",
       "      <td>4</td>\n",
       "      <td>0</td>\n",
       "      <td>5</td>\n",
       "    </tr>\n",
       "    <tr>\n",
       "      <th>1</th>\n",
       "      <td>49</td>\n",
       "      <td>No</td>\n",
       "      <td>Travel_Frequently</td>\n",
       "      <td>279</td>\n",
       "      <td>Research &amp; Development</td>\n",
       "      <td>8</td>\n",
       "      <td>1</td>\n",
       "      <td>Life Sciences</td>\n",
       "      <td>1</td>\n",
       "      <td>2</td>\n",
       "      <td>...</td>\n",
       "      <td>4</td>\n",
       "      <td>80</td>\n",
       "      <td>1</td>\n",
       "      <td>10</td>\n",
       "      <td>3</td>\n",
       "      <td>3</td>\n",
       "      <td>10</td>\n",
       "      <td>7</td>\n",
       "      <td>1</td>\n",
       "      <td>7</td>\n",
       "    </tr>\n",
       "    <tr>\n",
       "      <th>2</th>\n",
       "      <td>37</td>\n",
       "      <td>Yes</td>\n",
       "      <td>Travel_Rarely</td>\n",
       "      <td>1373</td>\n",
       "      <td>Research &amp; Development</td>\n",
       "      <td>2</td>\n",
       "      <td>2</td>\n",
       "      <td>Other</td>\n",
       "      <td>1</td>\n",
       "      <td>4</td>\n",
       "      <td>...</td>\n",
       "      <td>2</td>\n",
       "      <td>80</td>\n",
       "      <td>0</td>\n",
       "      <td>7</td>\n",
       "      <td>3</td>\n",
       "      <td>3</td>\n",
       "      <td>0</td>\n",
       "      <td>0</td>\n",
       "      <td>0</td>\n",
       "      <td>0</td>\n",
       "    </tr>\n",
       "    <tr>\n",
       "      <th>3</th>\n",
       "      <td>33</td>\n",
       "      <td>No</td>\n",
       "      <td>Travel_Frequently</td>\n",
       "      <td>1392</td>\n",
       "      <td>Research &amp; Development</td>\n",
       "      <td>3</td>\n",
       "      <td>4</td>\n",
       "      <td>Life Sciences</td>\n",
       "      <td>1</td>\n",
       "      <td>5</td>\n",
       "      <td>...</td>\n",
       "      <td>3</td>\n",
       "      <td>80</td>\n",
       "      <td>0</td>\n",
       "      <td>8</td>\n",
       "      <td>3</td>\n",
       "      <td>3</td>\n",
       "      <td>8</td>\n",
       "      <td>7</td>\n",
       "      <td>3</td>\n",
       "      <td>0</td>\n",
       "    </tr>\n",
       "    <tr>\n",
       "      <th>4</th>\n",
       "      <td>27</td>\n",
       "      <td>No</td>\n",
       "      <td>Travel_Rarely</td>\n",
       "      <td>591</td>\n",
       "      <td>Research &amp; Development</td>\n",
       "      <td>2</td>\n",
       "      <td>1</td>\n",
       "      <td>Medical</td>\n",
       "      <td>1</td>\n",
       "      <td>7</td>\n",
       "      <td>...</td>\n",
       "      <td>4</td>\n",
       "      <td>80</td>\n",
       "      <td>1</td>\n",
       "      <td>6</td>\n",
       "      <td>3</td>\n",
       "      <td>3</td>\n",
       "      <td>2</td>\n",
       "      <td>2</td>\n",
       "      <td>2</td>\n",
       "      <td>2</td>\n",
       "    </tr>\n",
       "  </tbody>\n",
       "</table>\n",
       "<p>5 rows × 35 columns</p>\n",
       "</div>"
      ],
      "text/plain": [
       "   Age Attrition     BusinessTravel  DailyRate              Department  \\\n",
       "0   41       Yes      Travel_Rarely       1102                   Sales   \n",
       "1   49        No  Travel_Frequently        279  Research & Development   \n",
       "2   37       Yes      Travel_Rarely       1373  Research & Development   \n",
       "3   33        No  Travel_Frequently       1392  Research & Development   \n",
       "4   27        No      Travel_Rarely        591  Research & Development   \n",
       "\n",
       "   DistanceFromHome  Education EducationField  EmployeeCount  EmployeeNumber  \\\n",
       "0                 1          2  Life Sciences              1               1   \n",
       "1                 8          1  Life Sciences              1               2   \n",
       "2                 2          2          Other              1               4   \n",
       "3                 3          4  Life Sciences              1               5   \n",
       "4                 2          1        Medical              1               7   \n",
       "\n",
       "   ...  RelationshipSatisfaction StandardHours  StockOptionLevel  \\\n",
       "0  ...                         1            80                 0   \n",
       "1  ...                         4            80                 1   \n",
       "2  ...                         2            80                 0   \n",
       "3  ...                         3            80                 0   \n",
       "4  ...                         4            80                 1   \n",
       "\n",
       "   TotalWorkingYears  TrainingTimesLastYear WorkLifeBalance  YearsAtCompany  \\\n",
       "0                  8                      0               1               6   \n",
       "1                 10                      3               3              10   \n",
       "2                  7                      3               3               0   \n",
       "3                  8                      3               3               8   \n",
       "4                  6                      3               3               2   \n",
       "\n",
       "  YearsInCurrentRole  YearsSinceLastPromotion  YearsWithCurrManager  \n",
       "0                  4                        0                     5  \n",
       "1                  7                        1                     7  \n",
       "2                  0                        0                     0  \n",
       "3                  7                        3                     0  \n",
       "4                  2                        2                     2  \n",
       "\n",
       "[5 rows x 35 columns]"
      ]
     },
     "execution_count": 6,
     "metadata": {},
     "output_type": "execute_result"
    }
   ],
   "source": [
    "df = pd.read_csv(\"C:/Users/khanh/Desktop/GMUeducation/AIT614/class2/EmployeeAttrition.csv\")\n",
    "df.head(5)"
   ]
  },
  {
   "cell_type": "code",
   "execution_count": 7,
   "id": "e9cf6608-cdde-4a83-b932-1f6013d77922",
   "metadata": {},
   "outputs": [],
   "source": [
    "# convert to Json\n",
    "data = json.loads(df.to_json(orient='records'))"
   ]
  },
  {
   "cell_type": "code",
   "execution_count": 8,
   "id": "a0e6422a-5648-45ec-823e-462ab741dd10",
   "metadata": {},
   "outputs": [
    {
     "data": {
      "text/plain": [
       "Database(MongoClient(host=['localhost:27017'], document_class=dict, tz_aware=False, connect=True), 'myDB')"
      ]
     },
     "execution_count": 8,
     "metadata": {},
     "output_type": "execute_result"
    }
   ],
   "source": [
    "mongo_db = myclient[\"myDB\"]\n",
    "mongo_db"
   ]
  },
  {
   "cell_type": "code",
   "execution_count": 11,
   "id": "00f77b40-e470-4ec8-a558-757501bd2331",
   "metadata": {},
   "outputs": [],
   "source": [
    "collection_name = \"Employees\""
   ]
  },
  {
   "cell_type": "code",
   "execution_count": 12,
   "id": "7c674deb-0a72-4083-94ea-eccde6bf04fe",
   "metadata": {},
   "outputs": [],
   "source": [
    "collection = mongo_db[collection_name]"
   ]
  },
  {
   "cell_type": "code",
   "execution_count": 13,
   "id": "920071be-1244-4efc-aa10-cc5e829176e2",
   "metadata": {},
   "outputs": [
    {
     "data": {
      "text/plain": [
       "<pymongo.results.InsertManyResult at 0x1f9a6c708c0>"
      ]
     },
     "execution_count": 13,
     "metadata": {},
     "output_type": "execute_result"
    }
   ],
   "source": [
    "#Insert the data into MongoDB collection\n",
    "collection.insert_many(data)"
   ]
  },
  {
   "cell_type": "markdown",
   "id": "c242e454-d4a6-4321-ae08-168fcb40cdca",
   "metadata": {},
   "source": [
    "#QUERY MONGDB"
   ]
  },
  {
   "cell_type": "code",
   "execution_count": 14,
   "id": "b79c8cb8-af3e-4223-9f15-52cb61798d1f",
   "metadata": {},
   "outputs": [
    {
     "data": {
      "text/plain": [
       "1470"
      ]
     },
     "execution_count": 14,
     "metadata": {},
     "output_type": "execute_result"
    }
   ],
   "source": [
    "collection.count_documents({})"
   ]
  },
  {
   "cell_type": "markdown",
   "id": "ee8afa33-5154-4a82-b3a9-4635988564d1",
   "metadata": {},
   "source": [
    "1.(5 points) Count the employees whose TotalWorkingYears are greater than 20.\n",
    "Hint: use count_documents(). The result is 207."
   ]
  },
  {
   "cell_type": "code",
   "execution_count": 16,
   "id": "858746a5-1063-4963-9af3-45f5dd912ffa",
   "metadata": {},
   "outputs": [
    {
     "data": {
      "text/plain": [
       "207"
      ]
     },
     "execution_count": 16,
     "metadata": {},
     "output_type": "execute_result"
    }
   ],
   "source": [
    "collection.count_documents(\n",
    "    {\"TotalWorkingYears\": {'$gt': 20}}\n",
    ")"
   ]
  },
  {
   "cell_type": "markdown",
   "id": "0653cb51-feaa-41f0-8f81-1612264cbfcc",
   "metadata": {},
   "source": [
    "2. (15 points) Find EmployeeNumber, EducationField, JobRole for all the employees whose Age is between 25 and 30 and Education is 5. Display only EmployeeNumber, EducationField, and JobRobe in the output."
   ]
  },
  {
   "cell_type": "code",
   "execution_count": 97,
   "id": "026bdb37-f762-42c0-8d0b-839608fd8435",
   "metadata": {},
   "outputs": [
    {
     "name": "stdout",
     "output_type": "stream",
     "text": [
      "Employee Number \t Job Role \t\t\t Education Field\n",
      "----------------------------------------------------------------------\n",
      "455\t\t\t Laboratory Technician \t\tOther\n",
      "565\t\t\t Research Scientist \t\tTechnical Degree\n",
      "747\t\t\t Sales Executive \t\tMarketing\n",
      "1094\t\t\t Laboratory Technician \t\tLife Sciences\n"
     ]
    }
   ],
   "source": [
    "employees = collection.find(\n",
    "    {\"$and\": [    \n",
    "    {\"Age\": {\"$lte\": 30, \"$gte\": 25}},\n",
    "    {\"Education\": {\"$eq\": 5}},\n",
    "    ]}\n",
    ")\n",
    "\n",
    "# print formatted outputs\n",
    "print('Employee Number', '\\t', 'Job Role', '\\t\\t\\t', 'Education Field')\n",
    "print('----------------------------------------------------------------------')\n",
    "for em in employees:\n",
    "    print('{0}\\t\\t\\t {1} \\t\\t{2}'.format(em['EmployeeNumber'], em['JobRole'], em['EducationField']))"
   ]
  },
  {
   "cell_type": "markdown",
   "id": "5e69d9d0-ff7a-463d-81d6-61e9f171a673",
   "metadata": {},
   "source": [
    "3 (15 points) For all the women employees having Age between 35 and 40 and\n",
    "TotalWorkingYears < 5, sort EmployeeNumber in an ascending order. Print only\n",
    "Department and EmployeeNumber in the output.\n"
   ]
  },
  {
   "cell_type": "code",
   "execution_count": 96,
   "id": "e3726e5a-b1ef-4c9d-90b6-67acfb9ba371",
   "metadata": {},
   "outputs": [
    {
     "name": "stdout",
     "output_type": "stream",
     "text": [
      "Employee Number \t\t Department\n",
      "----------------------------------------------------------------------\n",
      "49\t\t\tSales\n",
      "75\t\t\tResearch & Development\n",
      "245\t\t\tResearch & Development\n",
      "805\t\t\tSales\n",
      "1569\t\t\tResearch & Development\n",
      "1662\t\t\tResearch & Development\n",
      "1675\t\t\tResearch & Development\n",
      "1886\t\t\tResearch & Development\n",
      "2052\t\t\tResearch & Development\n"
     ]
    }
   ],
   "source": [
    "employees = collection.find(\n",
    "    {\"$and\": [    \n",
    "    {'Gender': 'Female',\n",
    "     \"Age\": {\"$lte\": 40, \"$gte\": 35}},\n",
    "    {\"TotalWorkingYears\": {\"$lt\": 5}}\n",
    "    ]}\n",
    ").sort('EmployeeNumber', 1)\n",
    "\n",
    "# print formatted outputs\n",
    "print( 'Employee Number', '\\t\\t', 'Department' )\n",
    "print('----------------------------------------------------------------------')\n",
    "for em in employees:\n",
    "    print('{0}\\t\\t\\t{1}'.format(em['EmployeeNumber'], em['Department'] ))"
   ]
  },
  {
   "cell_type": "markdown",
   "id": "5949bd16-bdf6-482a-a935-2fb28daeae9b",
   "metadata": {},
   "source": [
    "4. (20 points) Find employees whose HourlyRate is greater than or equal to 100 or DailyRate\n",
    "is greater than 1490. Display Age, HourlyRate, DailyRate, and Department only and sort\n",
    "DailyRate in an ascending order.\n"
   ]
  },
  {
   "cell_type": "code",
   "execution_count": 99,
   "id": "2a6eb48d-ece5-4f47-8ff1-ded6bbe5ccbb",
   "metadata": {},
   "outputs": [
    {
     "name": "stdout",
     "output_type": "stream",
     "text": [
      "Age \t Hourly Rate \t Daily Rate \t Department\n",
      "----------------------------------------------------------------------\n",
      "31\t 100\t\t 218\t\t Sales\n",
      "29\t 100\t\t 224\t\t Research & Development\n",
      "45\t 100\t\t 306\t\t Sales\n",
      "38\t 100\t\t 345\t\t Sales\n",
      "35\t 100\t\t 528\t\t Human Resources\n",
      "22\t 100\t\t 594\t\t Research & Development\n",
      "19\t 100\t\t 602\t\t Sales\n",
      "26\t 100\t\t 652\t\t Research & Development\n",
      "34\t 100\t\t 702\t\t Research & Development\n",
      "32\t 100\t\t 976\t\t Sales\n",
      "21\t 100\t\t 996\t\t Research & Development\n",
      "37\t 100\t\t 1040\t\t Research & Development\n",
      "50\t 100\t\t 1046\t\t Research & Development\n",
      "36\t 100\t\t 1120\t\t Sales\n",
      "33\t 100\t\t 1198\t\t Research & Development\n",
      "32\t 100\t\t 1311\t\t Research & Development\n",
      "38\t 100\t\t 1336\t\t Human Resources\n",
      "31\t 100\t\t 1445\t\t Research & Development\n",
      "40\t 100\t\t 1479\t\t Sales\n",
      "40\t 61\t\t 1492\t\t Research & Development\n",
      "38\t 76\t\t 1495\t\t Research & Development\n",
      "49\t 96\t\t 1495\t\t Research & Development\n",
      "38\t 87\t\t 1495\t\t Research & Development\n",
      "29\t 41\t\t 1496\t\t Research & Development\n",
      "28\t 92\t\t 1496\t\t Sales\n",
      "39\t 44\t\t 1498\t\t Sales\n",
      "60\t 80\t\t 1499\t\t Sales\n"
     ]
    }
   ],
   "source": [
    "employees2 = collection.find(\n",
    "    {\"$or\": [    \n",
    "    {\"HourlyRate\": {\"$gte\": 100}},\n",
    "    {\"DailyRate\": {\"$gt\": 1490}}\n",
    "    ]}\n",
    ").sort('DailyRate', 1)\n",
    "\n",
    "# print formatted outputs\n",
    "print('Age', '\\t', 'Hourly Rate', '\\t', 'Daily Rate', '\\t', 'Department')\n",
    "print('----------------------------------------------------------------------')\n",
    "for em in employees2:\n",
    "    print('{0}\\t {1}\\t\\t {2}\\t\\t {3}'.format(em['Age'], em['HourlyRate'], em['DailyRate'], em['Department']))"
   ]
  },
  {
   "cell_type": "markdown",
   "id": "c23f1e52-7a59-41c7-8b01-ca75beac16c2",
   "metadata": {},
   "source": [
    "5. (20 points) For each JobRole, find the average MonthlyIncome. Print out the formatted\n",
    "monthly incomes in hundredth and arrange them in descending order?\n",
    "Hint: Use $group and $avg. Use {:.2f} and/or other format monthly income."
   ]
  },
  {
   "cell_type": "code",
   "execution_count": 254,
   "id": "b28a6b60-b0f0-4717-b3e5-e6f51327b774",
   "metadata": {},
   "outputs": [
    {
     "name": "stdout",
     "output_type": "stream",
     "text": [
      "Job Role \t\t\t\t Average Monthly Income\n",
      "----------------------------------------------------------\n",
      "Manager \n",
      "\t\t\t\t\t 17181.68\n",
      "Research Director \n",
      "\t\t\t\t\t 16033.55\n",
      "Healthcare Representative \n",
      "\t\t\t\t\t 7528.76\n",
      "Manufacturing Director \n",
      "\t\t\t\t\t 7295.14\n",
      "Sales Executive \n",
      "\t\t\t\t\t 6924.28\n",
      "Human Resources \n",
      "\t\t\t\t\t 4235.75\n",
      "Research Scientist \n",
      "\t\t\t\t\t 3239.97\n",
      "Laboratory Technician \n",
      "\t\t\t\t\t 3237.17\n",
      "Sales Representative \n",
      "\t\t\t\t\t 2626.00\n"
     ]
    }
   ],
   "source": [
    "\n",
    "result = collection.aggregate([\n",
    "    {\"$group\" : {\n",
    "        \"_id\" : \"$JobRole\",  \n",
    "        \"Avg_monthly_income\" : {\"$avg\" : '$MonthlyIncome'}\n",
    "    }},\n",
    "    {\"$sort\" : {\n",
    "        \"Avg_monthly_income\": -1}\n",
    "    }\n",
    "])\n",
    "\n",
    "# print formatted outputs\n",
    "print('Job Role', '\\t\\t\\t\\t', 'Average Monthly Income')\n",
    "print('----------------------------------------------------------')\n",
    "for x in result:\n",
    "    print(x['_id'],  '\\n\\t\\t\\t\\t\\t', '{:.2f}'.format(x['Avg_monthly_income']))\n"
   ]
  },
  {
   "cell_type": "markdown",
   "id": "5a10dfb9-8b61-417a-8099-9a0e80b4347e",
   "metadata": {},
   "source": [
    "6. (25 points) Count the different MaritalStatus when Attrition is YES and AGE is greater than\n",
    "35 in the dataset. Arrange the count in descending order.\n",
    "Hint: Use $match, $group, $sum, and $sort. "
   ]
  },
  {
   "cell_type": "code",
   "execution_count": 255,
   "id": "52e83e3b-309e-40ed-9c06-3c577db479d1",
   "metadata": {},
   "outputs": [
    {
     "data": {
      "text/plain": [
       "[{'_id': 'Married', 'count': 33},\n",
       " {'_id': 'Single', 'count': 30},\n",
       " {'_id': 'Divorced', 'count': 14}]"
      ]
     },
     "execution_count": 255,
     "metadata": {},
     "output_type": "execute_result"
    }
   ],
   "source": [
    "result1 = collection.aggregate([\n",
    "    {'$match': {\n",
    "       \"$and\": [\n",
    "        {\"Attrition\": \"Yes\"},\n",
    "        {\"Age\": {\"$gt\": 35}}     \n",
    "       ]\n",
    "    }}, \n",
    "    {\"$group\" : {\n",
    "        \"_id\" : \"$MaritalStatus\",  \n",
    "        \"count\" : {\"$sum\" : '$EmployeeCount'}\n",
    "    }},\n",
    "    {\"$sort\" : {\n",
    "        \"count\": -1}\n",
    "    }\n",
    "])\n",
    "list(result1)"
   ]
  }
 ],
 "metadata": {
  "kernelspec": {
   "display_name": "Python 3 (ipykernel)",
   "language": "python",
   "name": "python3"
  },
  "language_info": {
   "codemirror_mode": {
    "name": "ipython",
    "version": 3
   },
   "file_extension": ".py",
   "mimetype": "text/x-python",
   "name": "python",
   "nbconvert_exporter": "python",
   "pygments_lexer": "ipython3",
   "version": "3.9.7"
  }
 },
 "nbformat": 4,
 "nbformat_minor": 5
}
